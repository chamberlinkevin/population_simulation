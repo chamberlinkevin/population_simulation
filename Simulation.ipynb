{
 "cells": [
  {
   "cell_type": "code",
   "execution_count": null,
   "id": "19aecfcf",
   "metadata": {
    "vscode": {
     "languageId": "plaintext"
    }
   },
   "outputs": [],
   "source": [
    "import random\n",
    "import math\n",
    "import uuid\n",
    "from typing import List\n",
    "import pandas as pd\n",
    "\n",
    "# Constants\n",
    "MATURE_AGE = 18\n",
    "PROXIMITY_THRESHOLD = 2.0  # Distance within which reproduction is possible\n",
    "SIMULATION_STEPS = 100\n",
    "TIME_STEP = 1.0  # Each step is 1 unit of time\n",
    "WORLD_SIZE = 100  # Boundary for the 2D plane"
   ]
  },
  {
   "cell_type": "code",
   "execution_count": null,
   "id": "db1fb3e5",
   "metadata": {
    "vscode": {
     "languageId": "plaintext"
    }
   },
   "outputs": [],
   "source": [
    "# Helper function\n",
    "def distance(p1, p2):\n",
    "    return math.hypot(p1.x - p2.x, p1.y - p2.y)"
   ]
  },
  {
   "cell_type": "code",
   "execution_count": null,
   "id": "7919dc7d",
   "metadata": {
    "vscode": {
     "languageId": "plaintext"
    }
   },
   "outputs": [],
   "source": [
    "# Define person\n",
    "class Person:\n",
    "    def __init__(self, age, gender, sexual_pref, speed):\n",
    "        self.id = uuid.uuid4()\n",
    "        self.age = age\n",
    "        self.gender = gender\n",
    "        self.sexual_pref = sexual_pref  # \"male\", \"female\", or \"any\"\n",
    "        self.speed = speed\n",
    "        self.x = random.uniform(0, WORLD_SIZE)\n",
    "        self.y = random.uniform(0, WORLD_SIZE)\n",
    "        self.alive = True\n",
    "\n",
    "    def move(self):\n",
    "        angle = random.uniform(0, 2 * math.pi)\n",
    "        dx = self.speed * math.cos(angle)\n",
    "        dy = self.speed * math.sin(angle)\n",
    "        self.x = max(0, min(WORLD_SIZE, self.x + dx))\n",
    "        self.y = max(0, min(WORLD_SIZE, self.y + dy))\n",
    "\n",
    "    def can_reproduce_with(self, other):\n",
    "        return (\n",
    "            self.age >= MATURE_AGE and\n",
    "            other.age >= MATURE_AGE and\n",
    "            self.id != other.id and\n",
    "            (\n",
    "                self.sexual_pref == \"any\" or self.sexual_pref == other.gender\n",
    "            ) and (\n",
    "                other.sexual_pref == \"any\" or other.sexual_pref == self.gender\n",
    "            )\n",
    "        )"
   ]
  },
  {
   "cell_type": "code",
   "execution_count": null,
   "id": "9caca28d",
   "metadata": {
    "vscode": {
     "languageId": "plaintext"
    }
   },
   "outputs": [],
   "source": [
    "# Simulation class\n",
    "class PopulationSimulation:\n",
    "    def __init__(self, initial_population: int):\n",
    "        self.people: List[Person] = [self.random_person() for _ in range(initial_population)]\n",
    "        self.movements = []\n",
    "        self.time = 0\n",
    "\n",
    "    def random_person(self):\n",
    "        return Person(\n",
    "            age=random.randint(0, 40),\n",
    "            gender=random.choice([\"male\", \"female\"]),\n",
    "            sexual_pref=random.choice([\"male\", \"female\", \"any\"]),\n",
    "            speed=random.uniform(0.5, 2.0)\n",
    "        )\n",
    "\n",
    "    def simulate(self, steps=SIMULATION_STEPS):\n",
    "        for step in range(steps):\n",
    "            self.time += TIME_STEP\n",
    "            new_people = []\n",
    "            for person in self.people:\n",
    "                person.age += TIME_STEP / 365.0  # assume age is in years\n",
    "                person.move()\n",
    "                self.movements.append({\n",
    "                    \"time\": self.time,\n",
    "                    \"id\": str(person.id),\n",
    "                    \"age\": person.age,\n",
    "                    \"x\": person.x,\n",
    "                    \"y\": person.y\n",
    "                })\n",
    "\n",
    "            # Check for reproduction opportunities\n",
    "            for i in range(len(self.people)):\n",
    "                for j in range(i + 1, len(self.people)):\n",
    "                    p1 = self.people[i]\n",
    "                    p2 = self.people[j]\n",
    "                    if distance(p1, p2) < PROXIMITY_THRESHOLD and p1.can_reproduce_with(p2):\n",
    "                        baby = self.random_person()\n",
    "                        baby.x = (p1.x + p2.x) / 2\n",
    "                        baby.y = (p1.y + p2.y) / 2\n",
    "                        baby.age = 0\n",
    "                        new_people.append(baby)\n",
    "                        # Only allow one offspring per pair per step\n",
    "                        break\n",
    "\n",
    "            self.people.extend(new_people)\n",
    "\n",
    "    def export_movements(self):\n",
    "        return pd.DataFrame(self.movements)"
   ]
  },
  {
   "cell_type": "code",
   "execution_count": null,
   "id": "69102465",
   "metadata": {
    "vscode": {
     "languageId": "plaintext"
    }
   },
   "outputs": [],
   "source": [
    "# Usage\n",
    "sim = PopulationSimulation(initial_population=10)\n",
    "sim.simulate(steps=50)\n",
    "df_movements = sim.export_movements()\n",
    "\n",
    "# Save to CSV if needed\n",
    "df_movements.to_csv(\"population_movements.csv\", index=False)\n",
    "\n",
    "print(df_movements.head())"
   ]
  }
 ],
 "metadata": {
  "language_info": {
   "name": "python"
  }
 },
 "nbformat": 4,
 "nbformat_minor": 5
}
